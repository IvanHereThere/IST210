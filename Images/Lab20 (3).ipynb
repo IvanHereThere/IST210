{
  "nbformat": 4,
  "nbformat_minor": 0,
  "metadata": {
    "colab": {
      "name": "Lab20.ipynb",
      "provenance": [],
      "collapsed_sections": []
    },
    "kernelspec": {
      "name": "python3",
      "display_name": "Python 3"
    }
  },
  "cells": [
    {
      "cell_type": "code",
      "metadata": {
        "id": "qgMsC2yov9PR",
        "colab_type": "code",
        "colab": {}
      },
      "source": [
        ""
      ],
      "execution_count": 0,
      "outputs": []
    },
    {
      "cell_type": "markdown",
      "metadata": {
        "id": "AhbwzlUiwT_6",
        "colab_type": "text"
      },
      "source": [
        "The Entity Relationship diagram depicts what a Pet shop might use in running its stores. There are six tables which represent the following: Pets, Customers, Animal Purchases, the Loyalty Program, Enclosures, aswell as Food. There needs to be a customer table to hold data about an individual customer including whether or not they are enrolled in the Loyalty Program, and some basic information including an unique customerID. The Loyalty Program Table keeps track of whether or not customer's are enrolled in the program. Many customers can be in the Loyalty program but only one loyalty program ID can be owned by a customer. Each customer can make multiple purchases which fall into two categories: food or animals. The food table has a unique foodID which allows specific food items to be chosen. The animal table has a unique PetId which allows a specific pet/animal to be bought. A single animle purchase may include multiple pets. The pets table has a unique PetID which is attributed to an individual pet. Furthermore, each pet has a Pet_Breed attribute which allows food items to be linked and fed to them as food items also use this attribute. Each pet is fed the food item specific to its breed, a one to one relationship. Even more so, each pet is held within an enclosure, hence its table. Each enclosure has a unique EnclosureID, which Pet (PetID) it contains, aswell as if its occupied or not.  Each pet can only be in one enclosure and in this pet shop, all animals are separated for sterile reasons. \n",
        "\n",
        "![alt text](https://user-images.githubusercontent.com/53385016/74823687-1a3df080-52d5-11ea-9e26-8fbebb539c16.png)"
      ]
    }
  ]
}