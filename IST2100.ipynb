{
  "nbformat": 4,
  "nbformat_minor": 0,
  "metadata": {
    "colab": {
      "name": "IST2100.ipynb",
      "provenance": [],
      "collapsed_sections": [],
      "authorship_tag": "ABX9TyMi3vkEcgyhAhlM0XJTyVhu",
      "include_colab_link": true
    },
    "kernelspec": {
      "name": "python3",
      "display_name": "Python 3"
    }
  },
  "cells": [
    {
      "cell_type": "markdown",
      "metadata": {
        "id": "view-in-github",
        "colab_type": "text"
      },
      "source": [
        "<a href=\"https://colab.research.google.com/github/IvanHereThere/IST210/blob/master/IST2100.ipynb\" target=\"_parent\"><img src=\"https://colab.research.google.com/assets/colab-badge.svg\" alt=\"Open In Colab\"/></a>"
      ]
    },
    {
      "cell_type": "code",
      "metadata": {
        "id": "X7_ZWQMREod7",
        "colab_type": "code",
        "colab": {}
      },
      "source": [
        "\n"
      ],
      "execution_count": 0,
      "outputs": []
    },
    {
      "cell_type": "markdown",
      "metadata": {
        "id": "YhKCuLz1FqJZ",
        "colab_type": "text"
      },
      "source": [
        "###Ivan Voinov"
      ]
    },
    {
      "cell_type": "markdown",
      "metadata": {
        "id": "OziIXinuFvN0",
        "colab_type": "text"
      },
      "source": [
        "###Computational Data Sciences"
      ]
    },
    {
      "cell_type": "markdown",
      "metadata": {
        "id": "Pw3QxKLPF0_7",
        "colab_type": "text"
      },
      "source": [
        "###Software Engineer or Data Scientist"
      ]
    },
    {
      "cell_type": "markdown",
      "metadata": {
        "id": "3MI4C0bGGa1j",
        "colab_type": "text"
      },
      "source": [
        "![alt text](https://raw.githubusercontent.com/IvanHereThere/IST210/master/Images/IvanProfilePic1.png)"
      ]
    }
  ]
}